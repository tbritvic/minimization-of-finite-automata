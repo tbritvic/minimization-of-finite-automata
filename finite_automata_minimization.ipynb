{
 "cells": [
  {
   "cell_type": "code",
   "execution_count": 31,
   "metadata": {
    "collapsed": false
   },
   "outputs": [
    {
     "name": "stdout",
     "output_type": "stream",
     "text": [
      "{'p5', 'p2', 'p3', 'p1'} ['c', 'd'] {('p2', 'd'): 'p5', ('p5', 'c'): 'p2', ('p5', 'd'): 'p3', ('p3', 'c'): 'p5', ('p1', 'c'): 'p1', ('p3', 'd'): 'p1', ('p1', 'd'): 'p5', ('p2', 'c'): 'p3'} p1 {'p5', 'p2'}\n"
     ]
    },
    {
     "data": {
      "text/plain": [
       "KonačniAutomat(abeceda=['c', 'd'], klasa=<class 'KA.KonačniAutomat'>, početno='p1', prijelaz={('p2', 'd'): 'p5', ('p5', 'c'): 'p2', ('p5', 'd'): 'p3', ('p3', 'c'): 'p5', ('p1', 'c'): 'p1', ('p3', 'd'): 'p1', ('p1', 'd'): 'p5', ('p2', 'c'): 'p3'}, stanja={'p5', 'p2', 'p3', 'p1'}, završna={'p5', 'p2'})"
      ]
     },
     "execution_count": 31,
     "metadata": {},
     "output_type": "execute_result"
    }
   ],
   "source": [
    "from KA import *\n",
    "\n",
    "M = KonačniAutomat.iz_tablice('''\n",
    "       c d\n",
    "       p1 p1 p4\n",
    "       p2 p3 p5 #\n",
    "       p3 p5 p1\n",
    "       p4 p2 p3 #\n",
    "       p5 p2 p3 #\n",
    "    ''')\n",
    "Q, sigma, delta, q0, F = M.komponente\n",
    "sigma = [k for k in sigma]\n",
    "sigma.sort()\n",
    "\n",
    "def podudarni(p, q, F):\n",
    "    if (p in F and q in F):\n",
    "        return True\n",
    "    elif ((p not in F) and (q not in F)):\n",
    "        return True\n",
    "    else:\n",
    "        return False\n",
    "\n",
    "def iduci_korak(p, q, sigma, delta):\n",
    "    redak = []\n",
    "    for slovo in sigma:\n",
    "        p_iduce = delta[(p, slovo)]\n",
    "        q_iduce = delta[(q, slovo)]\n",
    "        if p_iduce == q_iduce:\n",
    "            continue\n",
    "        par_iducih = (p_iduce, q_iduce)\n",
    "        if par_iducih in redak:\n",
    "            continue\n",
    "        redak.append(par_iducih)\n",
    "    return redak\n",
    "\n",
    "def istovjetna(p, q, sigma, delta, F):\n",
    "    if not podudarni(p, q, F):\n",
    "        return False\n",
    "\n",
    "    tablica_svih = [(p, q)]\n",
    "    prethodni_korak = [(p, q)]\n",
    "    while True:\n",
    "        ubacili = False\n",
    "        for (p_prethodni, q_prethodni) in prethodni_korak:\n",
    "            novi_redak = iduci_korak(p_prethodni, q_prethodni, sigma, delta)\n",
    "            for novi_par in novi_redak:\n",
    "                if novi_par in tablica_svih:\n",
    "                    continue\n",
    "                elif not podudarni(novi_par[0], novi_par[1], F):\n",
    "                    return False\n",
    "                else:\n",
    "                    ubacili = True\n",
    "                    tablica_svih.append(novi_par)\n",
    "        if not ubacili:\n",
    "            return True\n",
    "\n",
    "def minimiziraj(Q, delta, F, sigma, q0):\n",
    "    Q1 = Q.copy()\n",
    "    sigma1 = sigma.copy() \n",
    "    delta1 = delta.copy()\n",
    "    Q0 = q0\n",
    "    F1 = F.copy()\n",
    "    for stanja in podijeli(Q, delta, F, sigma, q0):\n",
    "        zavrsno = False\n",
    "        novo_stanje = stanja.pop()\n",
    "        stanja.add(novo_stanje)\n",
    "        for stanje in stanja:\n",
    "            Q1.remove(stanje)\n",
    "            for znak in sigma1:\n",
    "                del delta1[(stanje, znak)]\n",
    "            if stanje in F1:\n",
    "                zavrsno = True\n",
    "                F1.remove(stanje)\n",
    "            Q1.add(novo_stanje)\n",
    "            delta1[(novo_stanje, znak)] = delta[(novo_stanje,znak)]\n",
    "            if zavrsno:\n",
    "                F1.add(novo_stanje)\n",
    "    \n",
    "    for stanja in podijeli(Q, delta, F, sigma, q0):\n",
    "        novi_znak = stanja.pop()\n",
    "        stanja.add(novi_znak)\n",
    "        for stanje in stanja: \n",
    "            for q in Q1:\n",
    "                for znak in sigma:\n",
    "                    if delta[(q, znak)] == stanje:\n",
    "                            delta1[(q, znak)] = novi_znak\n",
    "   \n",
    "    print(Q1, sigma1, delta1, Q0, F1)    \n",
    "    return KonačniAutomat.iz_komponenti(Q1, sigma1, delta1, Q0, F1)                \n",
    "            \n",
    "def podijeli(Q, delta, F, sigma, q0):\n",
    "    stanja = Q.copy()\n",
    "    skupovi_stanja = []\n",
    "    \n",
    "    for p in stanja.copy():\n",
    "        ista = set()\n",
    "        for q in stanja.copy():\n",
    "            if istovjetna(p, q, sigma, delta, F):\n",
    "                ista.add(q)\n",
    "                stanja.remove(q)\n",
    "        if len(ista) > 0:\n",
    "            skupovi_stanja.append(ista)\n",
    "    \n",
    "    return skupovi_stanja\n",
    "\n",
    "\n",
    "\n",
    "minimiziraj(Q, delta, F, sigma, q0)\n"
   ]
  },
  {
   "cell_type": "code",
   "execution_count": 22,
   "metadata": {
    "collapsed": true
   },
   "outputs": [],
   "source": [
    "Q2 = [{'p1'}, {'p3'}, {'p2'}, {'p4', 'p5'}]\n",
    "Q3 = {'p1', 'p2', 'p3', 'p4', 'p5'}\n",
    "alfabet = {'c','d'}\n",
    "delta2 = {('p2', 'd'): 'p5', ('p1', 'c'): 'p1', ('p4', 'c'): 'p2', ('p3', 'd'): 'p1', ('p5', 'c'): 'p2', ('p5', 'd'): 'p3', ('p3', 'c'): 'p5', ('p4', 'd'): 'p3', ('p1', 'd'): 'p4', ('p2', 'c'): 'p3'}"
   ]
  },
  {
   "cell_type": "code",
   "execution_count": 28,
   "metadata": {
    "collapsed": false
   },
   "outputs": [
    {
     "name": "stdout",
     "output_type": "stream",
     "text": [
      "{('p2', 'd'): 'p4', ('p1', 'c'): 'p1', ('p4', 'c'): 'p2', ('p3', 'd'): 'p1', ('p5', 'c'): 'p2', ('p5', 'd'): 'p3', ('p3', 'c'): 'p4', ('p4', 'd'): 'p3', ('p1', 'd'): 'p4', ('p2', 'c'): 'p3'}\n"
     ]
    }
   ],
   "source": [
    "def makni_stanje_iz_kodomene(Q2, Q3, alfabet, delta2):\n",
    "    for a in Q2:\n",
    "        novi_znak = a.pop()\n",
    "        a.add(novi_znak)\n",
    "        for b in a:\n",
    "            for q in Q3:\n",
    "                for znak in alfabet:\n",
    "                    if delta2[(q,znak)] == b:\n",
    "                        delta2[(q,znak)] = novi_znak\n",
    "\n",
    "print(delta2)\n",
    "        "
   ]
  },
  {
   "cell_type": "code",
   "execution_count": 24,
   "metadata": {
    "collapsed": false
   },
   "outputs": [
    {
     "name": "stdout",
     "output_type": "stream",
     "text": [
      "{'p1'}\n",
      "{'p3'}\n",
      "{'p2'}\n",
      "{'p5', 'p4'}\n"
     ]
    }
   ],
   "source": [
    "def makni_stanje_iz_domene():\n",
    "     for stanja in podijeli(Q, delta, F, sigma, q0):\n",
    "        zavrsno = False\n",
    "        novo_stanje = stanja.pop()\n",
    "        stanja.add(novo_stanje)\n",
    "        for stanje in stanja:\n",
    "            Q1.remove(stanje)\n",
    "            for znak in sigma1:\n",
    "                del delta1[(stanje, znak)]\n",
    "            if stanje in F1:\n",
    "                zavrsno = True\n",
    "                F1.remove(p)\n",
    "            Q1.add(novo_stanje)\n",
    "            delta1[(novo_stanje, znak)] = delta[(novo_stanje,znak)]\n",
    "            if zavrsno:\n",
    "                F1.add(novo_stanje)"
   ]
  },
  {
   "cell_type": "code",
   "execution_count": null,
   "metadata": {
    "collapsed": true
   },
   "outputs": [],
   "source": []
  }
 ],
 "metadata": {
  "anaconda-cloud": {},
  "kernelspec": {
   "display_name": "Python [conda root]",
   "language": "python",
   "name": "conda-root-py"
  },
  "language_info": {
   "codemirror_mode": {
    "name": "ipython",
    "version": 3
   },
   "file_extension": ".py",
   "mimetype": "text/x-python",
   "name": "python",
   "nbconvert_exporter": "python",
   "pygments_lexer": "ipython3",
   "version": "3.5.2"
  }
 },
 "nbformat": 4,
 "nbformat_minor": 2
}
